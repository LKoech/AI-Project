{
 "cells": [
  {
   "cell_type": "code",
   "execution_count": 2,
   "id": "c2df7be1",
   "metadata": {},
   "outputs": [
    {
     "name": "stdout",
     "output_type": "stream",
     "text": [
      "Requirement already satisfied: tabulate in c:\\users\\amoskiana\\anaconda3\\lib\\site-packages (0.8.10)\n",
      "Note: you may need to restart the kernel to use updated packages.\n"
     ]
    }
   ],
   "source": [
    "pip install tabulate"
   ]
  },
  {
   "cell_type": "code",
   "execution_count": 7,
   "id": "86733231",
   "metadata": {},
   "outputs": [
    {
     "name": "stdout",
     "output_type": "stream",
     "text": [
      "Enter the course number (attempt 1 of 5): APT1050\n",
      "Enter the course number (attempt 2 of 5): APP4025\n",
      "Enter the course number (attempt 3 of 5): FIN4030\n",
      "Enter the course number (attempt 4 of 5): MKT4030\n",
      "Enter the course number (attempt 5 of 5): APT3010\n",
      "\n",
      "Selected Courses:\n",
      "+----------+------------+-------+--------------+\n",
      "| Course   | Faculty    | Day   | Time         |\n",
      "+==========+============+=======+==============+\n",
      "| APT1050  | Wamuyu, P  | Mon   | 9:00-10:40AM |\n",
      "+----------+------------+-------+--------------+\n",
      "| FIN4030  | Wainaina S | Mon   | 7:00-8:40AM  |\n",
      "+----------+------------+-------+--------------+\n",
      "| MKT4030  | Maisori, B | Mon   | 7:00-8:40AM  |\n",
      "+----------+------------+-------+--------------+\n"
     ]
    }
   ],
   "source": [
    "import csv\n",
    "import itertools\n",
    "from tabulate import tabulate\n",
    "\n",
    "class ScheduleGenerator:\n",
    "    def __init__(self, courses, faculty):\n",
    "        self.courses = courses\n",
    "        self.faculty = faculty\n",
    "        self.schedule = {}\n",
    "        self.days = ['Mon', 'Tue', 'Wed', 'Thu', 'Fri']\n",
    "        self.times = [\n",
    "            '7:00-8:40AM', '9:00-10:40AM', '11:00-12:40PM',\n",
    "            '1:20-3:00PM', '3:30-5:10PM', '5:30-7:10PM'\n",
    "        ]\n",
    "\n",
    "    def generate_schedule(self):\n",
    "        all_slots = list(itertools.product(self.days, self.times))\n",
    "        assigned_courses = set()\n",
    "\n",
    "        for faculty, courses in self.faculty.items():\n",
    "            for course in courses:\n",
    "                if course in assigned_courses:\n",
    "                    continue\n",
    "\n",
    "                for slot in all_slots:\n",
    "                    day, time = slot\n",
    "                    if self.is_slot_available(course, faculty, day, time):\n",
    "                        self.schedule[course] = (faculty, day, time)\n",
    "                        assigned_courses.add(course)\n",
    "                        break\n",
    "\n",
    "        remaining_courses = set(self.courses) - assigned_courses\n",
    "        self.schedule_remaining_courses(remaining_courses)\n",
    "\n",
    "    def is_slot_available(self, course, faculty, day, time):\n",
    "        for assigned_course, (assigned_faculty, assigned_day, assigned_time) in self.schedule.items():\n",
    "            if assigned_faculty == faculty and (day == assigned_day and time == assigned_time):\n",
    "                return False\n",
    "        return True\n",
    "\n",
    "    def schedule_remaining_courses(self, remaining_courses):\n",
    "        all_slots = list(itertools.product(self.days, self.times))\n",
    "        for course in remaining_courses:\n",
    "            for slot in all_slots:\n",
    "                day, time = slot\n",
    "                if self.is_slot_available(course, self.faculty[course], day, time):\n",
    "                    self.schedule[course] = (self.faculty[course], day, time)\n",
    "                    break\n",
    "\n",
    "    def get_schedule_table(self, selected_courses):\n",
    "        table_data = []\n",
    "        for course in selected_courses:\n",
    "            if course in self.schedule:\n",
    "                faculty, day, time = self.schedule[course]\n",
    "                table_data.append([course, faculty, day, time])\n",
    "        return table_data\n",
    "\n",
    "if __name__ == \"__main__\":\n",
    "    courses = []\n",
    "    faculty = {}\n",
    "\n",
    "    # Read data from CSV file and populate courses and faculty dictionaries\n",
    "    with open(\"ProjectSchedule.csv\", \"r\") as csvfile:\n",
    "        reader = csv.DictReader(csvfile)\n",
    "        for row in reader:\n",
    "            courses.append(row[\"COURSE NO\"])\n",
    "            faculty[row[\"COURSE NO\"]] = row[\"FACULTY\"]\n",
    "\n",
    "    schedule_generator = ScheduleGenerator(courses, faculty)\n",
    "\n",
    "    max_attempts = 5\n",
    "    selected_courses = []\n",
    "    for attempt in range(max_attempts):\n",
    "        user_input = input(\"Enter the course number (attempt {} of {}): \".format(attempt + 1, max_attempts))\n",
    "        if user_input in courses and user_input not in selected_courses:\n",
    "            conflicting_courses = set(selected_courses) & {course for course, (_, _, time) in schedule_generator.schedule.items() if time == schedule_generator.schedule[user_input][2]}\n",
    "            if not conflicting_courses:\n",
    "                selected_courses.append(user_input)\n",
    "                if len(selected_courses) >= 5:\n",
    "                    break\n",
    "            else:\n",
    "                print(\"Time conflict with courses: {}\".format(', '.join(conflicting_courses)))\n",
    "        else:\n",
    "            print(\"Invalid course number or course already selected. Try again.\")\n",
    "\n",
    "    if len(selected_courses) > 0:\n",
    "        schedule_generator.generate_schedule()\n",
    "        table_data = schedule_generator.get_schedule_table(selected_courses)\n",
    "        print(\"\\nSelected Courses:\")\n",
    "        print(tabulate(table_data, headers=[\"Course\", \"Faculty\", \"Day\", \"Time\"], tablefmt=\"grid\"))\n",
    "    else:\n",
    "        print(\"No courses selected.\")"
   ]
  },
  {
   "cell_type": "code",
   "execution_count": null,
   "id": "f800c5ed",
   "metadata": {},
   "outputs": [],
   "source": []
  }
 ],
 "metadata": {
  "kernelspec": {
   "display_name": "Python 3 (ipykernel)",
   "language": "python",
   "name": "python3"
  },
  "language_info": {
   "codemirror_mode": {
    "name": "ipython",
    "version": 3
   },
   "file_extension": ".py",
   "mimetype": "text/x-python",
   "name": "python",
   "nbconvert_exporter": "python",
   "pygments_lexer": "ipython3",
   "version": "3.10.9"
  }
 },
 "nbformat": 4,
 "nbformat_minor": 5
}
