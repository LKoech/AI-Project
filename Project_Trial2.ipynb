{
 "cells": [
  {
   "cell_type": "markdown",
   "metadata": {},
   "source": [
    "This part of the code generates a new csv containing the Lab schedule without any collision."
   ]
  },
  {
   "cell_type": "code",
   "execution_count": 3,
   "metadata": {},
   "outputs": [
    {
     "name": "stdout",
     "output_type": "stream",
     "text": [
      "Requirement already satisfied: python-constraint in /opt/python/3.10.8/lib/python3.10/site-packages (1.4.0)\n",
      "\n",
      "\u001b[1m[\u001b[0m\u001b[34;49mnotice\u001b[0m\u001b[1;39;49m]\u001b[0m\u001b[39;49m A new release of pip is available: \u001b[0m\u001b[31;49m23.1.2\u001b[0m\u001b[39;49m -> \u001b[0m\u001b[32;49m23.2.1\u001b[0m\n",
      "\u001b[1m[\u001b[0m\u001b[34;49mnotice\u001b[0m\u001b[1;39;49m]\u001b[0m\u001b[39;49m To update, run: \u001b[0m\u001b[32;49mpython -m pip install --upgrade pip\u001b[0m\n"
     ]
    }
   ],
   "source": [
    "!pip install python-constraint\n"
   ]
  },
  {
   "cell_type": "code",
   "execution_count": 1,
   "metadata": {},
   "outputs": [],
   "source": [
    "import csv\n",
    "from constraint import Problem, AllDifferentConstraint\n",
    "\n",
    "def get_lab_list(file_path, row_name):\n",
    "    lab_list = []\n",
    "    with open(file_path, 'r', newline='') as csvfile:\n",
    "        reader = csv.DictReader(csvfile)\n",
    "        if row_name not in reader.fieldnames:\n",
    "            return None  # The specified row name is not found in the CSV file\n",
    "        for row in reader:\n",
    "            if row[row_name] not in lab_list:\n",
    "                lab_list.append(row[row_name])\n",
    "    return lab_list\n",
    "\n",
    "# Read the class schedule from the CSV file\n",
    "class_schedule = []\n",
    "with open('ProjectSchedule.csv', 'r') as f:\n",
    "    reader = csv.DictReader(f)\n",
    "    for row in reader:\n",
    "        class_schedule.append(row)\n",
    "\n",
    "# Get the list of labs from the CSV file\n",
    "file_path = 'ProjectSchedule.csv'\n",
    "row_name = 'ROOM'\n",
    "labs = get_lab_list(file_path, row_name)\n",
    "\n",
    "# Create a CSP problem instance\n",
    "problem = Problem()\n",
    "\n",
    "# Add variables to the problem, one for each class\n",
    "for i, cls in enumerate(class_schedule):\n",
    "    problem.addVariable(i, labs)\n",
    "\n",
    "\n",
    "# Add constraints to the problem\n",
    "for i in range(len(class_schedule)):\n",
    "    for j in range(i+1, len(class_schedule)):\n",
    "        cls1 = class_schedule[i]\n",
    "        cls2 = class_schedule[j]\n",
    "        if cls1['DAYS'] == cls2['DAYS'] and cls1['TIME'] == cls2['TIME']:\n",
    "            # Ensure that no two classes are scheduled in the same room at the same time\n",
    "            problem.addConstraint(AllDifferentConstraint(), [i, j])\n",
    "            # Ensure that the same faculty member is not scheduled to teach two different classes at the same time\n",
    "            faculty1 = cls1['FACULTY'].replace('\"', '').replace(',', '').strip()\n",
    "            faculty2 = cls2['FACULTY'].replace('\"', '').replace(',', '').strip()\n",
    "            if faculty1 == faculty2:\n",
    "                problem.addConstraint(lambda x, y: x != y, [i, j])\n",
    "\n",
    "\n",
    "\n",
    "# Find a solution to the problem\n",
    "solution = problem.getSolution()\n",
    "\n",
    "\n",
    "\n",
    "# Write the solution to a new CSV file\n",
    "with open('NewLabSchedule5.csv', 'w', newline='') as csvfile:\n",
    "    fieldnames = ['Days', 'Time', 'Faculty', 'Room']\n",
    "    writer = csv.DictWriter(csvfile, fieldnames=fieldnames)\n",
    "    writer.writeheader()\n",
    "    for i, lab in solution.items():\n",
    "        cls = class_schedule[i]\n",
    "        writer.writerow({'Days': cls['DAYS'], 'Time': cls['TIME'], 'Faculty': cls['FACULTY'], 'Room': cls['ROOM']})\n",
    "\n"
   ]
  },
  {
   "cell_type": "code",
   "execution_count": 3,
   "metadata": {},
   "outputs": [],
   "source": [
    "import csv\n",
    "from constraint import Problem, AllDifferentConstraint\n",
    "from collections import defaultdict\n",
    "\n",
    "def get_lab_list(file_path, row_name):\n",
    "    lab_list = []\n",
    "    with open(file_path, 'r', newline='') as csvfile:\n",
    "        reader = csv.DictReader(csvfile)\n",
    "        if row_name not in reader.fieldnames:\n",
    "            return None  # The specified row name is not found in the CSV file\n",
    "        for row in reader:\n",
    "            if row[row_name] not in lab_list:\n",
    "                lab_list.append(row[row_name])\n",
    "    return lab_list\n",
    "\n",
    "# Read the class schedule from the CSV file\n",
    "class_schedule = []\n",
    "with open('ProjectSchedule.csv', 'r') as f:\n",
    "    reader = csv.DictReader(f)\n",
    "    for row in reader:\n",
    "        class_schedule.append(row)\n",
    "\n",
    "# Create a dictionary to store the classes by (DAYS, TIME)\n",
    "classes_by_day_time = defaultdict(list)\n",
    "\n",
    "# Populate the dictionary with data from the class schedule\n",
    "for cls in class_schedule:\n",
    "    day_time = (cls['DAYS'], cls['TIME'])\n",
    "    classes_by_day_time[day_time].append(cls)\n",
    "\n",
    "# Get the list of labs from the CSV file\n",
    "file_path = 'ProjectSchedule.csv'\n",
    "row_name = 'ROOM'\n",
    "labs = get_lab_list(file_path, row_name)\n",
    "\n",
    "# Create a CSP problem instance\n",
    "problem = Problem()\n",
    "\n",
    "# Add variables to the problem, one for each class\n",
    "for i, cls in enumerate(class_schedule):\n",
    "    problem.addVariable(i, labs)\n",
    "\n",
    "# Add constraints to the problem\n",
    "for i in range(len(class_schedule)):\n",
    "    for j in range(i+1, len(class_schedule)):\n",
    "        cls1 = class_schedule[i]\n",
    "        cls2 = class_schedule[j]\n",
    "        if cls1['DAYS'] == cls2['DAYS'] and cls1['TIME'] == cls2['TIME']:\n",
    "            # Ensure that no two classes are scheduled in the same room at the same time\n",
    "            problem.addConstraint(AllDifferentConstraint(), [i, j])\n",
    "            # Ensure that the same faculty member is not scheduled to teach two different classes at the same time\n",
    "            faculty1 = cls1['FACULTY'].replace('\"', '').replace(',', '').strip()\n",
    "            faculty2 = cls2['FACULTY'].replace('\"', '').replace(',', '').strip()\n",
    "            if faculty1 == faculty2:\n",
    "                problem.addConstraint(lambda x, y: x != y, [i, j])\n",
    "\n",
    "# Find a solution to the problem\n",
    "solution = problem.getSolution()\n",
    "\n",
    "# Write the solution to a new CSV file\n",
    "with open('NewLabSchedule6.csv', 'w', newline='') as csvfile:\n",
    "    fieldnames = ['Days', 'Time', 'Faculty', 'Room']\n",
    "    writer = csv.DictWriter(csvfile, fieldnames=fieldnames)\n",
    "    writer.writeheader()\n",
    "    for i, lab in solution.items():\n",
    "        cls = class_schedule[i]\n",
    "        writer.writerow({'Days': cls['DAYS'], 'Time': cls['TIME'], 'Faculty': cls['FACULTY'], 'Room': cls['ROOM']})\n"
   ]
  },
  {
   "cell_type": "code",
   "execution_count": 6,
   "metadata": {},
   "outputs": [
    {
     "name": "stdout",
     "output_type": "stream",
     "text": [
      "Requirement already satisfied: pandas in /home/codespace/.local/lib/python3.10/site-packages (2.0.3)\n",
      "Requirement already satisfied: python-dateutil>=2.8.2 in /home/codespace/.local/lib/python3.10/site-packages (from pandas) (2.8.2)\n",
      "Requirement already satisfied: pytz>=2020.1 in /home/codespace/.local/lib/python3.10/site-packages (from pandas) (2023.3)\n",
      "Requirement already satisfied: tzdata>=2022.1 in /home/codespace/.local/lib/python3.10/site-packages (from pandas) (2023.3)\n",
      "Requirement already satisfied: numpy>=1.21.0 in /home/codespace/.local/lib/python3.10/site-packages (from pandas) (1.25.0)\n",
      "Requirement already satisfied: six>=1.5 in /home/codespace/.local/lib/python3.10/site-packages (from python-dateutil>=2.8.2->pandas) (1.16.0)\n",
      "\n",
      "\u001b[1m[\u001b[0m\u001b[34;49mnotice\u001b[0m\u001b[1;39;49m]\u001b[0m\u001b[39;49m A new release of pip is available: \u001b[0m\u001b[31;49m23.1.2\u001b[0m\u001b[39;49m -> \u001b[0m\u001b[32;49m23.2.1\u001b[0m\n",
      "\u001b[1m[\u001b[0m\u001b[34;49mnotice\u001b[0m\u001b[1;39;49m]\u001b[0m\u001b[39;49m To update, run: \u001b[0m\u001b[32;49mpython -m pip install --upgrade pip\u001b[0m\n"
     ]
    }
   ],
   "source": [
    "!pip install pandas"
   ]
  },
  {
   "cell_type": "markdown",
   "metadata": {},
   "source": [
    "Below we prompt the user to choose to download a csv file based on the member of facualty they want or the data on the labs/room for a specific room."
   ]
  },
  {
   "cell_type": "markdown",
   "metadata": {},
   "source": [
    "Below I just modified the code to allow either mixture of small or capital letter to be normalized and return the results."
   ]
  },
  {
   "cell_type": "code",
   "execution_count": 4,
   "metadata": {},
   "outputs": [
    {
     "name": "stdout",
     "output_type": "stream",
     "text": [
      "The data for Room SS14 has been written to SS14.csv\n"
     ]
    }
   ],
   "source": [
    "import pandas as pd\n",
    "\n",
    "# Read the CSV file into a DataFrame\n",
    "df = pd.read_csv('NewLabSchedule6.csv')\n",
    "\n",
    "while True:\n",
    "    # Ask the user to specify a group\n",
    "    group_by = input('Do you want to group by Room or Faculty? ')\n",
    "    group_value = input(f'Enter the {group_by} you want to generate a CSV file for: ')\n",
    "\n",
    "    # Normalize the group value entered by the user\n",
    "    normalized_group_value = ' '.join(group_value.lower().split())\n",
    "\n",
    "    # Check if the specified group exists in the data\n",
    "    mask = df[group_by].str.lower().str.split().str.join(' ') == normalized_group_value\n",
    "    if not any(mask):\n",
    "        print(f'Error: {group_by} {group_value} not found in the data')\n",
    "        retry = input('Do you want to try again? (y/n) ')\n",
    "        if retry.lower() != 'y':\n",
    "            break\n",
    "    else:\n",
    "        # Filter the data to include only the specified group\n",
    "        filtered_df = df[mask]\n",
    "\n",
    "        # Get the original name of the group value from the data\n",
    "        original_group_value = filtered_df.iloc[0][group_by]\n",
    "\n",
    "        # Write the filtered data to a new CSV file\n",
    "        file_name = f'{original_group_value}.csv'\n",
    "        filtered_df.to_csv(file_name, index=False)\n",
    "        print(f'The data for {group_by} {original_group_value} has been written to {file_name}')\n",
    "        break\n"
   ]
  },
  {
   "cell_type": "code",
   "execution_count": null,
   "metadata": {},
   "outputs": [],
   "source": []
  }
 ],
 "metadata": {
  "kernelspec": {
   "display_name": "Python 3",
   "language": "python",
   "name": "python3"
  },
  "language_info": {
   "codemirror_mode": {
    "name": "ipython",
    "version": 3
   },
   "file_extension": ".py",
   "mimetype": "text/x-python",
   "name": "python",
   "nbconvert_exporter": "python",
   "pygments_lexer": "ipython3",
   "version": "3.10.8"
  },
  "orig_nbformat": 4
 },
 "nbformat": 4,
 "nbformat_minor": 2
}
