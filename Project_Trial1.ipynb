{
 "cells": [
  {
   "cell_type": "markdown",
   "metadata": {},
   "source": [
    "This part just returns how many labs there are in school from the csv file."
   ]
  },
  {
   "cell_type": "code",
   "execution_count": 1,
   "metadata": {},
   "outputs": [
    {
     "name": "stdout",
     "output_type": "stream",
     "text": [
      "Number of different elements in row 'ROOM': 78\n"
     ]
    }
   ],
   "source": [
    "import csv\n",
    "\n",
    "def count_unique_elements_in_row(file_path, row_name):\n",
    "    unique_elements = set()\n",
    "\n",
    "    with open(file_path, 'r', newline='') as csvfile:\n",
    "        reader = csv.DictReader(csvfile)\n",
    "        if row_name not in reader.fieldnames:\n",
    "            return None  # The specified row name is not found in the CSV file\n",
    "\n",
    "        for row in reader:\n",
    "            unique_elements.add(row[row_name])\n",
    "\n",
    "    return len(unique_elements)\n",
    "\n",
    "# Replace 'data.csv' with the actual file path of your CSV file.\n",
    "file_path = 'ProjectSchedule.csv'\n",
    "row_name = 'ROOM'\n",
    "num_unique_elements = count_unique_elements_in_row(file_path, row_name)\n",
    "\n",
    "if num_unique_elements is not None:\n",
    "    print(f\"Number of different elements in row '{row_name}': {num_unique_elements}\")\n",
    "else:\n",
    "    print(f\"Row '{row_name}' not found in the CSV file.\")\n"
   ]
  },
  {
   "cell_type": "markdown",
   "metadata": {},
   "source": [
    "This part checks and returns the different labs in a list from the ProjectSchedule.csv file"
   ]
  },
  {
   "cell_type": "code",
   "execution_count": 2,
   "metadata": {},
   "outputs": [
    {
     "name": "stdout",
     "output_type": "stream",
     "text": [
      "List of different labs:\n",
      "['LAB1', 'ICT', 'LAB4', 'LAB3', 'LAB6', 'SC4', 'LAB2', 'SS11', 'SS5', 'SC6', 'GLAB', 'LT3', 'B1', 'B2', 'SC5', 'SC1', 'LAB2', 'LAB6', 'LAB4', 'SC5', 'LT3', 'D', 'SC1', 'SS13', 'SS7', 'SS8', 'K', 'SLAB', 'LAB1', 'B5', 'LAB 1', 'SS11', 'SS4', 'H', 'SS6', 'SS11', 'F', 'SS10', 'SS5', 'SC4', 'SS12', 'SS17', 'GLAB', 'LAB3', 'B4', 'SS9', 'B1', 'SS19', 'LT1', 'SS18', 'SS14', 'SC6', 'SC3', 'SC2', 'SS3', 'SR5', 'LT7', 'SS15', 'B2', 'ICT', 'LAB4', 'LAB7', 'LAB3', 'SC3', 'SC4', 'B5', 'L', 'SLAB', 'G', 'SS5', 'B3', 'B1', 'SS3', 'LT1', 'SS12', 'SS14', 'SS10', 'H', 'SC9', 'SS19', 'SC8', 'SS1', 'LT2', 'SS6', 'SC2', 'SS4', 'SS17', 'LT7', 'GLAB', 'LAB1', 'B4', 'SS13', 'SC6', 'SC7', 'LT4', 'SC1', 'LT3', 'SS8', 'SS18', 'SS15', 'SC5', 'LAB2', 'SS9', 'SS7', 'SS11', 'SC1', 'LAB3', 'LAB6', 'LAB4', 'B1', 'G', 'BS1', 'SC6', 'B3', 'LT4', 'LT5', 'SR2', 'B5', 'B1', 'SS11', 'SS13', 'SS8', 'L', 'SS6', 'LT3', 'K', 'K', 'SS4', 'SS3', 'GLAB', 'LAB1', 'SS9', 'SS5', 'SC7', 'LT1', 'SC2', 'SC3', 'LAB2', 'SS14', 'SLAB', 'SC4', 'H', 'SS19', 'SS18', 'SS15', 'SS7', 'SS12', 'SS1', 'SC1', 'C', 'ICT', 'LAB2', 'LAB3', 'LAB4', 'SC4', 'B5', 'B1', 'SC4', 'SS8', 'K', 'SS13', 'SC6', 'SS18', 'SS5', 'N', 'SC3', 'SS14', 'GLAB', 'SC2', 'SS9', 'B2', 'LT5', 'LT3', 'SC7', 'SC4', 'SS10', 'SS6', 'SS4', 'SS16', 'SS7', 'SS19', 'SS3', 'B4', 'SC4', 'SS16', 'SS17', 'B3', 'LT2', 'SS5', 'SC3', 'LT1', 'SS4', 'SS14', 'LAB4', 'SC1', 'SC2', 'GLAB', 'ICT', 'LAB6', 'LAB1', 'SS11', 'SS12', 'SC7', 'LT5', 'SS1', 'SS2', 'SS13', 'SS8', 'ICT', 'LAB1', 'LAB7', 'SC1', 'C', 'LT7', 'SS5', 'SS12', 'SS11', 'SS13', 'B3', 'LAB4', 'SS14', 'LT2', 'SS4', 'GLAB', 'SS8', 'SS17', 'SS1', 'SS18', 'SS18', 'SC8', 'FLA1', 'ANM1', 'ANM2', 'LT5', 'LT6', 'LT7', 'LT8', 'SC9', 'SC8', 'SS17', 'ANM1', 'ANM2', 'FLA1', 'SC5', 'LT4', 'LT5', 'SLAB', 'LAB3', 'SR1', 'LAB2', 'SS5', 'GLAB', 'ICT', 'SS16', 'LT2', 'LAB7', 'LAB8', 'LAB4', 'SC9', 'SC3', 'LAB6', 'B3', 'B1', 'SC5', 'SS9', 'SS6', 'SS10', 'SS17', 'LT1', 'SS12', 'SS5', 'SS13', 'G', 'SS7', 'SS8', 'LT2', 'SS1', 'LT3', 'DKIT', 'L', 'SS4', 'SS14', 'GLAB', 'LAB2', 'LAB1', 'SS19', 'B5', 'B2', 'SC4', 'LT4', 'H', 'LT5', 'SS11', 'SS18', 'SS15', 'SS3', 'E', 'F', 'LAB4', 'LAB1', 'L', 'G', 'K', 'B5', 'BS2', 'BS5', 'B1', 'SS18', 'LT4', 'SS12', 'SS5', 'LT1', 'SS1', 'SS2', 'H', 'SS8', 'LT5', 'SS14', 'SS10', 'DKIT', 'BS1', 'SS17', 'SS6', 'GLAB', 'LAB3', 'LAB7', 'SS13', 'SC9', 'SS9', 'B4', 'SS11', 'SC7', 'SC8', 'B1', 'SC5', 'LT2', 'SC2', 'SC1', 'SC3', 'LT3', 'SC4', 'SS15', 'SS7', 'SS19', 'B4', 'H', 'SC8', 'SC7', 'LAB3', 'L', 'SS1', 'LT2', 'SC9', 'SS19', 'SS12', 'SS5', 'SS3', 'SC6', 'LAB4', 'SS6', 'SS13', 'B1', 'DKIT', 'B5', 'K', 'SS4', 'SS8', 'SS17', 'GLAB', 'LAB7', 'SS11', 'B3', 'LT1', 'SS18', 'SC7', 'LT5', 'SC4', 'SC5', 'SC2', 'SS7', 'SS10', 'SS9', 'SR3', 'B2', 'SS15', 'SS14', 'LAB7', 'LAB4', 'ICT', 'SS5', 'SC2', 'SR1', 'SS9', 'SS12', 'K', 'I', 'SS4', 'SS19', 'B1', 'SS13', 'SS6', 'B1', 'SS10', 'SR2', '', 'SS3', 'LT7', 'SS11', 'GLAB', 'LAB1', 'LAB3', 'SS14', 'SS17', 'SC5', 'B2', 'LT2', 'SS18', 'SC2', 'SC5', 'LT5', 'SS8', 'SS1', 'SS15', 'SC7', 'B1', 'LAB1', 'LAB4', 'SS11', 'L', 'B3', 'B4', '', 'SS5', 'SS12', 'SS15', 'LAB2', 'SS13', 'DKIT', 'SS4', 'SS19', 'GLAB', 'ICT', 'SS6', 'LT2', 'SC2', 'SC3', 'SS9', 'LT3', 'SS14', 'SS8', 'LAB7', 'LT2', 'LAB1', 'LAB6', 'SC1', 'Q', 'SC2', 'SS14', 'SS13', 'SS12', 'LAB4', 'SS6', 'SS4', 'SS9', 'LAB2', 'B1', 'SC3', 'SS15', 'SS5', 'SC1', 'ANM1', 'SC6', 'ANM1', 'SC1', 'SC3', 'B5', '', 'ANM1', '', 'LT5', 'FLA1', 'ANM2', 'SS17', 'SC5', 'SC1', 'FLA1', 'ANM2', 'SC6', 'LT3', 'LT4', 'ANM1', 'SC3', 'SS17', 'BS1', '', 'H', 'LAB4', 'LAB3', 'B3', 'B2', '', 'SC4', 'ANM2', 'SS1', 'SS4', 'B5', 'SC1', 'LT2', 'SS9', 'G', 'SS3', 'LAB7', 'SS14', 'SS13', 'ANM1', 'FLA1', 'SC2', 'TRES', 'SS5', 'DKIT', 'SC9', 'LT1', 'SS17', 'SS11', 'LT7', 'SS17', 'SC3', 'SC8', 'SR3', 'M', 'LT4', 'L', 'SC5', 'LT5', 'LT3', 'SC6', '', 'SS6', 'SR2', 'SS19', 'SS12', 'B1', 'LAB1', 'GLAB', '', 'SS5', 'SS6', 'SS7', 'SS11', 'SS1', 'SS19', 'SS18', 'SC5', 'SS3', 'SLAB', 'LAB6', 'ICT', 'LAB3', 'B5', 'LT2', 'G', 'SC4', 'L', 'SC3', 'SS17', 'GLAB', 'LAB1', 'B4', 'LT4', 'SS1', 'ANM1', 'B2', 'SC6', 'LAB3', 'LAB7', 'SS1', '', 'SS11', 'SC2', 'SS15', 'B1', 'SS18', 'SS5', 'SS12', 'DKIT', 'TKIT', 'B2', 'SS8', 'LT4', 'SS3', 'SC1', 'SS16', 'LAB1', 'SC3', 'B4', 'SC4', 'LT1', 'SS9', 'SC5', 'SS14', 'SS17', 'GLAB', 'LAB1', 'ICT', 'LAB6', 'SC4', 'LT1', 'SS1', 'SS11', 'SC1', 'SC8', 'B2', '', '', '', '', '', '', '', '', '', '', '', '', '', '', 'SS19', 'B2']\n"
     ]
    }
   ],
   "source": [
    "import csv\n",
    "\n",
    "def get_lab_list(file_path, row_name):\n",
    "    lab_list = []\n",
    "\n",
    "    with open(file_path, 'r', newline='') as csvfile:\n",
    "        reader = csv.DictReader(csvfile)\n",
    "        if row_name not in reader.fieldnames:\n",
    "            return None  # The specified row name is not found in the CSV file\n",
    "\n",
    "        for row in reader:\n",
    "            lab_list.append(row[row_name])\n",
    "\n",
    "    return lab_list\n",
    "\n",
    "# Replace 'data.csv' with the actual file path of your CSV file.\n",
    "file_path = 'ProjectSchedule.csv'\n",
    "row_name = 'ROOM'\n",
    "labs = get_lab_list(file_path, row_name)\n",
    "\n",
    "if labs is not None:\n",
    "    print(\"List of different labs:\")\n",
    "    print(labs)\n",
    "else:\n",
    "    print(f\"Row '{row_name}' not found in the CSV file.\")\n"
   ]
  },
  {
   "cell_type": "markdown",
   "metadata": {},
   "source": [
    "This part returns the result of the sceduled sessions in the different labs."
   ]
  },
  {
   "cell_type": "code",
   "execution_count": 4,
   "metadata": {},
   "outputs": [
    {
     "ename": "KeyError",
     "evalue": "'Day'",
     "output_type": "error",
     "traceback": [
      "\u001b[0;31m---------------------------------------------------------------------------\u001b[0m",
      "\u001b[0;31mKeyError\u001b[0m                                  Traceback (most recent call last)",
      "Cell \u001b[0;32mIn[4], line 37\u001b[0m\n\u001b[1;32m     33\u001b[0m \u001b[39mfor\u001b[39;00m \u001b[39mcls\u001b[39m \u001b[39min\u001b[39;00m class_schedule:\n\u001b[1;32m     34\u001b[0m     \u001b[39m# Find an available lab for the class\u001b[39;00m\n\u001b[1;32m     35\u001b[0m     \u001b[39mfor\u001b[39;00m lab \u001b[39min\u001b[39;00m labs:\n\u001b[1;32m     36\u001b[0m         \u001b[39m# Check if the lab is available at the class time\u001b[39;00m\n\u001b[0;32m---> 37\u001b[0m         \u001b[39mif\u001b[39;00m \u001b[39mall\u001b[39;49m(\u001b[39mcls\u001b[39;49m[\u001b[39m'\u001b[39;49m\u001b[39mDay\u001b[39;49m\u001b[39m'\u001b[39;49m] \u001b[39m!=\u001b[39;49m c[\u001b[39m'\u001b[39;49m\u001b[39mDay\u001b[39;49m\u001b[39m'\u001b[39;49m] \u001b[39mor\u001b[39;49;00m \u001b[39mcls\u001b[39;49m[\u001b[39m'\u001b[39;49m\u001b[39mTime\u001b[39;49m\u001b[39m'\u001b[39;49m] \u001b[39m!=\u001b[39;49m c[\u001b[39m'\u001b[39;49m\u001b[39mTime\u001b[39;49m\u001b[39m'\u001b[39;49m] \u001b[39mfor\u001b[39;49;00m c \u001b[39min\u001b[39;49;00m lab_schedule[lab]):\n\u001b[1;32m     38\u001b[0m             \u001b[39m# Assign the lab to the class\u001b[39;00m\n\u001b[1;32m     39\u001b[0m             lab_schedule[lab]\u001b[39m.\u001b[39mappend(\u001b[39mcls\u001b[39m)\n\u001b[1;32m     40\u001b[0m             \u001b[39mbreak\u001b[39;00m\n",
      "Cell \u001b[0;32mIn[4], line 37\u001b[0m, in \u001b[0;36m<genexpr>\u001b[0;34m(.0)\u001b[0m\n\u001b[1;32m     33\u001b[0m \u001b[39mfor\u001b[39;00m \u001b[39mcls\u001b[39m \u001b[39min\u001b[39;00m class_schedule:\n\u001b[1;32m     34\u001b[0m     \u001b[39m# Find an available lab for the class\u001b[39;00m\n\u001b[1;32m     35\u001b[0m     \u001b[39mfor\u001b[39;00m lab \u001b[39min\u001b[39;00m labs:\n\u001b[1;32m     36\u001b[0m         \u001b[39m# Check if the lab is available at the class time\u001b[39;00m\n\u001b[0;32m---> 37\u001b[0m         \u001b[39mif\u001b[39;00m \u001b[39mall\u001b[39m(\u001b[39mcls\u001b[39;49m[\u001b[39m'\u001b[39;49m\u001b[39mDay\u001b[39;49m\u001b[39m'\u001b[39;49m] \u001b[39m!=\u001b[39m c[\u001b[39m'\u001b[39m\u001b[39mDay\u001b[39m\u001b[39m'\u001b[39m] \u001b[39mor\u001b[39;00m \u001b[39mcls\u001b[39m[\u001b[39m'\u001b[39m\u001b[39mTime\u001b[39m\u001b[39m'\u001b[39m] \u001b[39m!=\u001b[39m c[\u001b[39m'\u001b[39m\u001b[39mTime\u001b[39m\u001b[39m'\u001b[39m] \u001b[39mfor\u001b[39;00m c \u001b[39min\u001b[39;00m lab_schedule[lab]):\n\u001b[1;32m     38\u001b[0m             \u001b[39m# Assign the lab to the class\u001b[39;00m\n\u001b[1;32m     39\u001b[0m             lab_schedule[lab]\u001b[39m.\u001b[39mappend(\u001b[39mcls\u001b[39m)\n\u001b[1;32m     40\u001b[0m             \u001b[39mbreak\u001b[39;00m\n",
      "\u001b[0;31mKeyError\u001b[0m: 'Day'"
     ]
    }
   ],
   "source": [
    "import csv\n",
    "from collections import defaultdict\n",
    "\n",
    "def get_lab_list(file_path, row_name):\n",
    "    lab_list = []\n",
    "\n",
    "    with open(file_path, 'r', newline='') as csvfile:\n",
    "        reader = csv.DictReader(csvfile)\n",
    "        if row_name not in reader.fieldnames:\n",
    "            return None  # The specified row name is not found in the CSV file\n",
    "\n",
    "        for row in reader:\n",
    "            lab_list.append(row[row_name])\n",
    "\n",
    "    return lab_list\n",
    "\n",
    "# Read the class schedule from the CSV file\n",
    "class_schedule = []\n",
    "with open('ProjectSchedule.csv', 'r') as f:\n",
    "    reader = csv.DictReader(f)\n",
    "    for row in reader:\n",
    "        class_schedule.append(row)\n",
    "\n",
    "# Get the list of labs from the CSV file\n",
    "file_path = 'ProjectSchedule.csv'\n",
    "row_name = 'ROOM'\n",
    "labs = get_lab_list(file_path, row_name)\n",
    "\n",
    "# Initialize the lab schedule\n",
    "lab_schedule = defaultdict(list)\n",
    "\n",
    "# Assign labs to classes\n",
    "for cls in class_schedule:\n",
    "    # Find an available lab for the class\n",
    "    for lab in labs:\n",
    "        # Check if the lab is available at the class time\n",
    "        if all(cls['DAYS'] != c['DAYS'] or cls['TIME'] != c['TIME'] for c in lab_schedule[lab]):\n",
    "            # Assign the lab to the class\n",
    "            lab_schedule[lab].append(cls)\n",
    "            break\n",
    "\n",
    "# Print the lab schedule\n",
    "for lab, classes in lab_schedule.items():\n",
    "    print(lab)\n",
    "    for cls in classes:\n",
    "        print('  {} {} {}: {}'.format(cls['DAYS'], cls['TIME'], cls['FACULTY'], cls['ROOM']))\n"
   ]
  }
 ],
 "metadata": {
  "kernelspec": {
   "display_name": "Python 3",
   "language": "python",
   "name": "python3"
  },
  "language_info": {
   "codemirror_mode": {
    "name": "ipython",
    "version": 3
   },
   "file_extension": ".py",
   "mimetype": "text/x-python",
   "name": "python",
   "nbconvert_exporter": "python",
   "pygments_lexer": "ipython3",
   "version": "3.8.10"
  },
  "orig_nbformat": 4
 },
 "nbformat": 4,
 "nbformat_minor": 2
}
